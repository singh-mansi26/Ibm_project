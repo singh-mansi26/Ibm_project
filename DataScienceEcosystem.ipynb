{
 "cells": [
  {
   "cell_type": "markdown",
   "id": "62d90d0e-9782-45b5-abe5-0c4ded6c7797",
   "metadata": {},
   "source": [
    "# Data Science Tools and Ecosystem\n",
    "**In this notebook, Data Science Tools and Ecosystem are summarized.**"
   ]
  },
  {
   "cell_type": "markdown",
   "id": "e456743e-4a2a-4f18-bd1b-56d1ad076a7b",
   "metadata": {},
   "source": [
    "# Objectives:\n",
    "- List popular languages for Data Science\n",
    "- List commonly used libraries used by Data Scientists\n",
    "- Understand the data science tools\n"
   ]
  },
  {
   "cell_type": "markdown",
   "id": "4d260cbd-90fc-416b-8441-c4df4adcf824",
   "metadata": {},
   "source": [
    "### Some of the popular languages that Data Scientists use are:\n",
    "\n",
    "1. R\n",
    "2. Python\n",
    "3. Java\n",
    "4. C++\n"
   ]
  },
  {
   "cell_type": "markdown",
   "id": "6df12d28-586f-44ad-8fbe-c76ae2324046",
   "metadata": {},
   "source": [
    "### Some of the commonly used libraries used by Data Scientists include:\n",
    "\n",
    "1. R - ggplot2\n",
    "2. Python- Pandas, Numpy, Mathplotlib, Seaborn, Sckit-learn, Keras, Tensorflow, PyTorch\n",
    "3. Scala - Vegas, BigDL\n"
   ]
  },
  {
   "cell_type": "markdown",
   "id": "33dce627-f6f5-49e4-a189-f367945e18c1",
   "metadata": {},
   "source": [
    "## Data Science tools"
   ]
  },
  {
   "cell_type": "markdown",
   "id": "e630fc07-c026-4966-a1a3-18404459235c",
   "metadata": {},
   "source": [
    "| Data Science Tools| \n",
    "| -------------|\n",
    "| MySQL | \n",
    "| Hadoop File System| \n",
    "| Apache Airflow | "
   ]
  },
  {
   "cell_type": "markdown",
   "id": "bf5158a3-4e44-415d-a930-8914f51d42b0",
   "metadata": {},
   "source": [
    "### Below are a few examples of evaluating arithmetic expressions in Python"
   ]
  },
  {
   "cell_type": "markdown",
   "id": "dd6917ca-351d-4f44-8649-fc6f84e2b795",
   "metadata": {},
   "source": [
    "*This a simple arithmetic expression to mutiply then add integers.*"
   ]
  },
  {
   "cell_type": "code",
   "execution_count": 1,
   "id": "bf33ed00-52b7-46c5-9d44-b89b0c840325",
   "metadata": {
    "tags": []
   },
   "outputs": [
    {
     "data": {
      "text/plain": [
       "17"
      ]
     },
     "execution_count": 1,
     "metadata": {},
     "output_type": "execute_result"
    }
   ],
   "source": [
    "(3*4)+5"
   ]
  },
  {
   "cell_type": "markdown",
   "id": "dd058e53-a1ca-40fd-9ce9-6f45afcf8e0a",
   "metadata": {},
   "source": [
    "*This will convert 200 minutes to hours by diving by 60*"
   ]
  },
  {
   "cell_type": "code",
   "execution_count": 5,
   "id": "e694daba-e54d-47c2-8634-c8f76b91dda7",
   "metadata": {
    "tags": []
   },
   "outputs": [
    {
     "data": {
      "text/plain": [
       "3.3333333333333335"
      ]
     },
     "execution_count": 5,
     "metadata": {},
     "output_type": "execute_result"
    }
   ],
   "source": [
    "200* (1/60) "
   ]
  },
  {
   "cell_type": "markdown",
   "id": "e0986b05-9bd1-42e1-be3a-aea3e874a10f",
   "metadata": {},
   "source": [
    "## Author\n",
    "\n",
    "Mansi Singh"
   ]
  },
  {
   "cell_type": "code",
   "execution_count": null,
   "id": "46153f17-024c-48c9-990b-d24b809e39dd",
   "metadata": {},
   "outputs": [],
   "source": []
  }
 ],
 "metadata": {
  "kernelspec": {
   "display_name": "Python",
   "language": "python",
   "name": "conda-env-python-py"
  },
  "language_info": {
   "codemirror_mode": {
    "name": "ipython",
    "version": 3
   },
   "file_extension": ".py",
   "mimetype": "text/x-python",
   "name": "python",
   "nbconvert_exporter": "python",
   "pygments_lexer": "ipython3",
   "version": "3.7.12"
  }
 },
 "nbformat": 4,
 "nbformat_minor": 5
}
